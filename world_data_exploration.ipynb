{
 "cells": [
  {
   "cell_type": "code",
   "execution_count": null,
   "metadata": {},
   "outputs": [],
   "source": [
    "import pandas as pd\n",
    "from glob import glob\n",
    "from random import choice, sample\n",
    "import altair as alt\n",
    "from os import exists"
   ]
  },
  {
   "cell_type": "code",
   "execution_count": null,
   "metadata": {},
   "outputs": [],
   "source": [
    "country_filepaths = glob(\"*/*/*/*_data.csv\")\n",
    "print(country_filepaths)"
   ]
  },
  {
   "cell_type": "markdown",
   "metadata": {},
   "source": [
    "## Testing With One Country"
   ]
  },
  {
   "cell_type": "code",
   "execution_count": null,
   "metadata": {},
   "outputs": [],
   "source": [
    "poland = pd.read_csv(country_filepaths[0])"
   ]
  },
  {
   "cell_type": "code",
   "execution_count": null,
   "metadata": {},
   "outputs": [],
   "source": [
    "poland.head()"
   ]
  },
  {
   "cell_type": "code",
   "execution_count": null,
   "metadata": {},
   "outputs": [],
   "source": [
    "poland.info()"
   ]
  },
  {
   "cell_type": "code",
   "execution_count": null,
   "metadata": {},
   "outputs": [],
   "source": [
    "poland_long = poland.melt(\n",
    "        id_vars=['Country Name', 'Country Code', 'Indicator Name', 'Indicator Code'],\n",
    "        var_name='Year', value_name='Value'\n",
    "    )"
   ]
  },
  {
   "cell_type": "code",
   "execution_count": null,
   "metadata": {},
   "outputs": [],
   "source": [
    "poland_long[poland_long[\"Value\"].notna()].head().max()"
   ]
  },
  {
   "cell_type": "code",
   "execution_count": null,
   "metadata": {},
   "outputs": [],
   "source": [
    "pivoted_df = poland_long.pivot_table(\n",
    "    index=['Country Name', 'Country Code', 'Year'],\n",
    "    columns='Indicator Name',\n",
    "    values='Value'\n",
    ")"
   ]
  },
  {
   "cell_type": "markdown",
   "metadata": {},
   "source": [
    "## Combining All Countries\n",
    "\n",
    "Data is shaped as follows:\n",
    "> [Country, Country Code, Year, [All Indicators]]"
   ]
  },
  {
   "cell_type": "code",
   "execution_count": null,
   "metadata": {},
   "outputs": [],
   "source": [
    "df_list = []"
   ]
  },
  {
   "cell_type": "code",
   "execution_count": null,
   "metadata": {},
   "outputs": [],
   "source": [
    "for country in country_filepaths:\n",
    "    df = pd.read_csv(country)\n",
    "    df_long = df.melt(\n",
    "        id_vars=['Country Name', 'Country Code', 'Indicator Name', 'Indicator Code'],\n",
    "        var_name='Year', value_name='Value'\n",
    "    )\n",
    "    pivoted_df = df_long.pivot_table(\n",
    "    index=['Country Name', 'Country Code', 'Year'],\n",
    "    columns='Indicator Name',\n",
    "    values='Value'\n",
    "    ).reset_index()\n",
    "    df_list.append(pivoted_df)"
   ]
  },
  {
   "cell_type": "code",
   "execution_count": null,
   "metadata": {},
   "outputs": [],
   "source": [
    "combined_data = pd.concat(df_list)"
   ]
  },
  {
   "cell_type": "code",
   "execution_count": null,
   "metadata": {},
   "outputs": [],
   "source": [
    "combined_data.dropna(subset=\"Year\", inplace=True)\n",
    "combined_data = combined_data.astype({\"Year\": int})"
   ]
  },
  {
   "cell_type": "code",
   "execution_count": null,
   "metadata": {},
   "outputs": [],
   "source": [
    "for col in combined_data.columns:\n",
    "    if combined_data[col].dtype != float:\n",
    "        print(col, combined_data[col].dtype)"
   ]
  },
  {
   "cell_type": "code",
   "execution_count": null,
   "metadata": {},
   "outputs": [],
   "source": [
    "cols = ['Country Name', 'Country Code', 'Year'] + [col for col in combined_data if col not in ['Country Name', 'Country Code', 'Year', \"Indicator Name\"]]\n",
    "combined_data = combined_data[cols].reset_index()"
   ]
  },
  {
   "cell_type": "code",
   "execution_count": null,
   "metadata": {},
   "outputs": [],
   "source": [
    "combined_data.sample(10)"
   ]
  },
  {
   "cell_type": "markdown",
   "metadata": {},
   "source": [
    "## Choosing a random Indicator to Check For 3 Random Countries"
   ]
  },
  {
   "cell_type": "code",
   "execution_count": null,
   "metadata": {},
   "outputs": [],
   "source": [
    "randomly_chosen_countries = sample(combined_data['Country Name'].unique().tolist(), 7)\n",
    "filtered_data = combined_data[combined_data['Country Name'].isin(randomly_chosen_countries)]\n",
    "randomly_chosen_countries\n"
   ]
  },
  {
   "cell_type": "code",
   "execution_count": null,
   "metadata": {},
   "outputs": [],
   "source": [
    "randomly_chosen_column = choice([col for col in combined_data if col not in ['Country Name', 'Country Code', 'Year', \"Indicator Name\"]])\n",
    "randomly_chosen_column"
   ]
  },
  {
   "cell_type": "code",
   "execution_count": null,
   "metadata": {},
   "outputs": [],
   "source": [
    "alt.Chart(filtered_data).mark_line().encode(\n",
    "    x='Year:O',\n",
    "    y=alt.Y(randomly_chosen_column.replace(\":\", r\"\\:\"), title=f'{randomly_chosen_column}'),\n",
    "    color=\"Country Name\"\n",
    ").properties(\n",
    "    title=f'{randomly_chosen_column} by Year'\n",
    ").show()"
   ]
  },
  {
   "cell_type": "code",
   "execution_count": null,
   "metadata": {},
   "outputs": [],
   "source": [
    "if not exists(f\"{randomly_chosen_column} by Year\".replace(\" \", \"_\")):\n",
    "    ..."
   ]
  },
  {
   "cell_type": "code",
   "execution_count": null,
   "metadata": {},
   "outputs": [],
   "source": [
    "combined_data.to_csv(\"./data/world_bank/combined_world_data.csv\", index=False)"
   ]
  }
 ],
 "metadata": {
  "kernelspec": {
   "display_name": ".venv",
   "language": "python",
   "name": "python3"
  },
  "language_info": {
   "codemirror_mode": {
    "name": "ipython",
    "version": 3
   },
   "file_extension": ".py",
   "mimetype": "text/x-python",
   "name": "python",
   "nbconvert_exporter": "python",
   "pygments_lexer": "ipython3",
   "version": "3.12.3"
  }
 },
 "nbformat": 4,
 "nbformat_minor": 2
}
