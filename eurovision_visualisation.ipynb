{
 "cells": [
  {
   "cell_type": "code",
   "execution_count": 2,
   "metadata": {},
   "outputs": [],
   "source": [
    "import pandas as pd\n",
    "import altair as alt\n",
    "from os.path import exists, join\n",
    "from os import makedirs\n",
    "\n",
    "\n",
    "from functions import create_year_chart, make_count_chart, make_points_chart, make_averages_chart"
   ]
  },
  {
   "cell_type": "markdown",
   "metadata": {},
   "source": [
    "## Read CSV and Group"
   ]
  },
  {
   "cell_type": "code",
   "execution_count": 3,
   "metadata": {},
   "outputs": [],
   "source": [
    "eurovision_data = pd.read_csv(\"./data/eurovision/cleansed_eurovision_data.csv\")"
   ]
  },
  {
   "cell_type": "code",
   "execution_count": 3,
   "metadata": {},
   "outputs": [],
   "source": [
    "eurovision_data_with_six_or_more_wins = eurovision_data.groupby('Language').filter(lambda x: len(x) > 6)"
   ]
  },
  {
   "cell_type": "code",
   "execution_count": null,
   "metadata": {},
   "outputs": [],
   "source": [
    "count_chart = make_count_chart(eurovision_data_with_six_or_more_wins)\n",
    "count_chart.show()\n"
   ]
  },
  {
   "cell_type": "code",
   "execution_count": null,
   "metadata": {},
   "outputs": [],
   "source": [
    "points_chart = make_points_chart(eurovision_data_with_six_or_more_wins)\n",
    "points_chart.show()\n"
   ]
  },
  {
   "cell_type": "code",
   "execution_count": null,
   "metadata": {},
   "outputs": [],
   "source": [
    "averages_chart = make_averages_chart(eurovision_data_with_six_or_more_wins)\n",
    "averages_chart.show()\n"
   ]
  },
  {
   "cell_type": "code",
   "execution_count": null,
   "metadata": {},
   "outputs": [],
   "source": [
    "\n",
    "charts = [create_year_chart(year, eurovision_data_with_six_or_more_wins) for year in range(2000, 2024)]\n",
    "for chart in charts:\n",
    "    chart.show() if type(chart) != str else print(chart)"
   ]
  },
  {
   "cell_type": "markdown",
   "metadata": {},
   "source": [
    "## Save All Charts"
   ]
  },
  {
   "cell_type": "code",
   "execution_count": null,
   "metadata": {},
   "outputs": [],
   "source": [
    "if not exists(\"visualisations/eurovision/count_chart.png\"):\n",
    "    count_chart.save(\"visualisations/eurovision/count_chart.png\")\n",
    "if not exists(\"visualisations/eurovision/points_chart.png\"):\n",
    "    points_chart.save(\"visualisations/eurovision/points_chart.png\")\n",
    "if not exists(\"visualisations/eurovision/averages_chart.png\"):\n",
    "    averages_chart.save(\"visualisations/eurovision/averages_chart.png\")"
   ]
  },
  {
   "cell_type": "code",
   "execution_count": null,
   "metadata": {},
   "outputs": [],
   "source": [
    "for year in eurovision_data_with_six_or_more_wins[\"Year\"].unique():\n",
    "    filepath = join(\"visualisations\", \"eurovision\", str(int(year)), \"points_by_year.png\")\n",
    "    if not exists(filepath):\n",
    "        create_year_chart(year, eurovision_data_with_six_or_more_wins).save(filepath)"
   ]
  }
 ],
 "metadata": {
  "kernelspec": {
   "display_name": ".venv",
   "language": "python",
   "name": "python3"
  },
  "language_info": {
   "codemirror_mode": {
    "name": "ipython",
    "version": 3
   },
   "file_extension": ".py",
   "mimetype": "text/x-python",
   "name": "python",
   "nbconvert_exporter": "python",
   "pygments_lexer": "ipython3",
   "version": "3.12.6"
  }
 },
 "nbformat": 4,
 "nbformat_minor": 2
}
