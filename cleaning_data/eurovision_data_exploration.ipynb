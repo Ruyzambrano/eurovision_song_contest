{
 "cells": [
  {
   "cell_type": "code",
   "execution_count": 17,
   "metadata": {},
   "outputs": [],
   "source": [
    "from glob import glob\n",
    "from os.path import exists\n",
    "\n",
    "import pandas as pd"
   ]
  },
  {
   "cell_type": "code",
   "execution_count": 18,
   "metadata": {},
   "outputs": [],
   "source": [
    "def get_languages(data):\n",
    "    return data[\"Language\"].unique()"
   ]
  },
  {
   "cell_type": "markdown",
   "metadata": {},
   "source": [
    "## Read Data"
   ]
  },
  {
   "cell_type": "code",
   "execution_count": 19,
   "metadata": {},
   "outputs": [],
   "source": [
    "result_filepath = glob(\"../*/*/every_eurovision_result_ever.csv\")"
   ]
  },
  {
   "cell_type": "code",
   "execution_count": 20,
   "metadata": {},
   "outputs": [],
   "source": [
    "results = pd.read_csv(result_filepath[0])"
   ]
  },
  {
   "cell_type": "code",
   "execution_count": 21,
   "metadata": {},
   "outputs": [
    {
     "name": "stdout",
     "output_type": "stream",
     "text": [
      "<class 'pandas.core.frame.DataFrame'>\n",
      "RangeIndex: 1721 entries, 0 to 1720\n",
      "Data columns (total 10 columns):\n",
      " #   Column              Non-Null Count  Dtype \n",
      "---  ------              --------------  ----- \n",
      " 0   Song                1721 non-null   object\n",
      " 1   Artist              1721 non-null   object\n",
      " 2   Country             1721 non-null   object\n",
      " 3   Year                1721 non-null   int64 \n",
      " 4   Language            1721 non-null   object\n",
      " 5   Grand Final Place   1667 non-null   object\n",
      " 6   Grand Final Points  1666 non-null   object\n",
      " 7   Semifinal           1674 non-null   object\n",
      " 8   Semifinal Place     763 non-null    object\n",
      " 9   Semifinal Points    763 non-null    object\n",
      "dtypes: int64(1), object(9)\n",
      "memory usage: 134.6+ KB\n"
     ]
    }
   ],
   "source": [
    "results.info()"
   ]
  },
  {
   "cell_type": "code",
   "execution_count": 22,
   "metadata": {},
   "outputs": [
    {
     "data": {
      "text/plain": [
       "array(['Belgium', 'France', 'Germany', 'Italy', 'Luxembourg',\n",
       "       'Netherlands', 'Switzerland', 'Austria', 'Denmark',\n",
       "       'United Kingdom', 'Sweden', 'Monaco', 'Norway', 'Finland', 'Spain',\n",
       "       'Yugoslavia', 'Portugal', 'Ireland', 'Malta', 'Israel', 'Greece',\n",
       "       'Turkey', 'Morocco', 'Cyprus', 'Iceland', 'Bosnia and Herzegovina',\n",
       "       'Croatia', 'Slovenia', 'Estonia', 'Hungary', 'Lithuania', 'Poland',\n",
       "       'Romania', 'Russia', 'Slovakia', 'North Macedonia', 'Latvia',\n",
       "       'Ukraine', 'Albania', 'Andorra', 'Belarus',\n",
       "       'Serbia and Montenegro', 'Bulgaria', 'Moldova', 'Armenia',\n",
       "       'Czech Republic', 'Georgia', 'Montenegro', 'Serbia', 'Azerbaijan',\n",
       "       'San Marino', 'Australia'], dtype=object)"
      ]
     },
     "execution_count": 22,
     "metadata": {},
     "output_type": "execute_result"
    }
   ],
   "source": [
    "results[\"Country\"].unique()"
   ]
  },
  {
   "cell_type": "markdown",
   "metadata": {},
   "source": [
    "## Transform Data"
   ]
  },
  {
   "cell_type": "code",
   "execution_count": 23,
   "metadata": {},
   "outputs": [],
   "source": [
    "results_with_scores = results[~results[\"Grand Final Place\"].isna()] # 1956 was the first year of competition and the votes were lost. 2020 was cancelled due to COVID"
   ]
  },
  {
   "cell_type": "code",
   "execution_count": 24,
   "metadata": {},
   "outputs": [
    {
     "name": "stderr",
     "output_type": "stream",
     "text": [
      "/var/folders/kl/zs51p_z135905dzchw5f3n480000gp/T/ipykernel_80730/2764377531.py:2: SettingWithCopyWarning: \n",
      "A value is trying to be set on a copy of a slice from a DataFrame.\n",
      "Try using .loc[row_indexer,col_indexer] = value instead\n",
      "\n",
      "See the caveats in the documentation: https://pandas.pydata.org/pandas-docs/stable/user_guide/indexing.html#returning-a-view-versus-a-copy\n",
      "  results_with_scores['Language'] = results_with_scores['Language'].apply(lambda x: x.split(', '))\n"
     ]
    }
   ],
   "source": [
    "# Convert the 'Language' column to lists\n",
    "results_with_scores['Language'] = results_with_scores['Language'].apply(lambda x: x.split(', '))\n"
   ]
  },
  {
   "cell_type": "code",
   "execution_count": 25,
   "metadata": {},
   "outputs": [
    {
     "name": "stderr",
     "output_type": "stream",
     "text": [
      "/var/folders/kl/zs51p_z135905dzchw5f3n480000gp/T/ipykernel_80730/2862138750.py:1: SettingWithCopyWarning: \n",
      "A value is trying to be set on a copy of a slice from a DataFrame.\n",
      "Try using .loc[row_indexer,col_indexer] = value instead\n",
      "\n",
      "See the caveats in the documentation: https://pandas.pydata.org/pandas-docs/stable/user_guide/indexing.html#returning-a-view-versus-a-copy\n",
      "  results_with_scores['Language'] = results_with_scores['Language'].replace(r'\\[\\w+\\]', '', regex=True)\n"
     ]
    }
   ],
   "source": [
    "results_with_scores['Language'] = results_with_scores['Language'].replace(r'\\[\\w+\\]', '', regex=True)"
   ]
  },
  {
   "cell_type": "code",
   "execution_count": 26,
   "metadata": {},
   "outputs": [
    {
     "name": "stderr",
     "output_type": "stream",
     "text": [
      "/var/folders/kl/zs51p_z135905dzchw5f3n480000gp/T/ipykernel_80730/531146895.py:1: FutureWarning: A value is trying to be set on a copy of a DataFrame or Series through chained assignment using an inplace method.\n",
      "The behavior will change in pandas 3.0. This inplace method will never work because the intermediate object on which we are setting values always behaves as a copy.\n",
      "\n",
      "For example, when doing 'df[col].method(value, inplace=True)', try using 'df.method({col: value}, inplace=True)' or df[col] = df[col].method(value) instead, to perform the operation inplace on the original object.\n",
      "\n",
      "\n",
      "  results_with_scores[\"Grand Final Points\"].replace({\"NQ\": None}, inplace=True)\n",
      "/var/folders/kl/zs51p_z135905dzchw5f3n480000gp/T/ipykernel_80730/531146895.py:1: SettingWithCopyWarning: \n",
      "A value is trying to be set on a copy of a slice from a DataFrame\n",
      "\n",
      "See the caveats in the documentation: https://pandas.pydata.org/pandas-docs/stable/user_guide/indexing.html#returning-a-view-versus-a-copy\n",
      "  results_with_scores[\"Grand Final Points\"].replace({\"NQ\": None}, inplace=True)\n",
      "/var/folders/kl/zs51p_z135905dzchw5f3n480000gp/T/ipykernel_80730/531146895.py:2: FutureWarning: A value is trying to be set on a copy of a DataFrame or Series through chained assignment using an inplace method.\n",
      "The behavior will change in pandas 3.0. This inplace method will never work because the intermediate object on which we are setting values always behaves as a copy.\n",
      "\n",
      "For example, when doing 'df[col].method(value, inplace=True)', try using 'df.method({col: value}, inplace=True)' or df[col] = df[col].method(value) instead, to perform the operation inplace on the original object.\n",
      "\n",
      "\n",
      "  results_with_scores[\"Grand Final Place\"].replace({\"NQ\": None}, inplace=True)\n",
      "/var/folders/kl/zs51p_z135905dzchw5f3n480000gp/T/ipykernel_80730/531146895.py:2: SettingWithCopyWarning: \n",
      "A value is trying to be set on a copy of a slice from a DataFrame\n",
      "\n",
      "See the caveats in the documentation: https://pandas.pydata.org/pandas-docs/stable/user_guide/indexing.html#returning-a-view-versus-a-copy\n",
      "  results_with_scores[\"Grand Final Place\"].replace({\"NQ\": None}, inplace=True)\n",
      "/var/folders/kl/zs51p_z135905dzchw5f3n480000gp/T/ipykernel_80730/531146895.py:3: FutureWarning: A value is trying to be set on a copy of a DataFrame or Series through chained assignment using an inplace method.\n",
      "The behavior will change in pandas 3.0. This inplace method will never work because the intermediate object on which we are setting values always behaves as a copy.\n",
      "\n",
      "For example, when doing 'df[col].method(value, inplace=True)', try using 'df.method({col: value}, inplace=True)' or df[col] = df[col].method(value) instead, to perform the operation inplace on the original object.\n",
      "\n",
      "\n",
      "  results_with_scores[\"Semifinal Place\"].replace({\"No Semifinal\": None, \"Yes\": None, \"AQ\": None}, inplace=True)\n",
      "/var/folders/kl/zs51p_z135905dzchw5f3n480000gp/T/ipykernel_80730/531146895.py:3: SettingWithCopyWarning: \n",
      "A value is trying to be set on a copy of a slice from a DataFrame\n",
      "\n",
      "See the caveats in the documentation: https://pandas.pydata.org/pandas-docs/stable/user_guide/indexing.html#returning-a-view-versus-a-copy\n",
      "  results_with_scores[\"Semifinal Place\"].replace({\"No Semifinal\": None, \"Yes\": None, \"AQ\": None}, inplace=True)\n",
      "/var/folders/kl/zs51p_z135905dzchw5f3n480000gp/T/ipykernel_80730/531146895.py:4: FutureWarning: A value is trying to be set on a copy of a DataFrame or Series through chained assignment using an inplace method.\n",
      "The behavior will change in pandas 3.0. This inplace method will never work because the intermediate object on which we are setting values always behaves as a copy.\n",
      "\n",
      "For example, when doing 'df[col].method(value, inplace=True)', try using 'df.method({col: value}, inplace=True)' or df[col] = df[col].method(value) instead, to perform the operation inplace on the original object.\n",
      "\n",
      "\n",
      "  results_with_scores[\"Semifinal Points\"].replace({\"No Semifinal\": None, \"Yes\": None, \"AQ\": None}, inplace=True)\n",
      "/var/folders/kl/zs51p_z135905dzchw5f3n480000gp/T/ipykernel_80730/531146895.py:4: SettingWithCopyWarning: \n",
      "A value is trying to be set on a copy of a slice from a DataFrame\n",
      "\n",
      "See the caveats in the documentation: https://pandas.pydata.org/pandas-docs/stable/user_guide/indexing.html#returning-a-view-versus-a-copy\n",
      "  results_with_scores[\"Semifinal Points\"].replace({\"No Semifinal\": None, \"Yes\": None, \"AQ\": None}, inplace=True)\n",
      "/var/folders/kl/zs51p_z135905dzchw5f3n480000gp/T/ipykernel_80730/531146895.py:5: FutureWarning: A value is trying to be set on a copy of a DataFrame or Series through chained assignment using an inplace method.\n",
      "The behavior will change in pandas 3.0. This inplace method will never work because the intermediate object on which we are setting values always behaves as a copy.\n",
      "\n",
      "For example, when doing 'df[col].method(value, inplace=True)', try using 'df.method({col: value}, inplace=True)' or df[col] = df[col].method(value) instead, to perform the operation inplace on the original object.\n",
      "\n",
      "\n",
      "  results_with_scores[\"Semifinal\"].replace({\"No Semifinal\": None, \"Yes\": None, \"AQ\": None}, inplace=True)\n",
      "/var/folders/kl/zs51p_z135905dzchw5f3n480000gp/T/ipykernel_80730/531146895.py:5: SettingWithCopyWarning: \n",
      "A value is trying to be set on a copy of a slice from a DataFrame\n",
      "\n",
      "See the caveats in the documentation: https://pandas.pydata.org/pandas-docs/stable/user_guide/indexing.html#returning-a-view-versus-a-copy\n",
      "  results_with_scores[\"Semifinal\"].replace({\"No Semifinal\": None, \"Yes\": None, \"AQ\": None}, inplace=True)\n",
      "/var/folders/kl/zs51p_z135905dzchw5f3n480000gp/T/ipykernel_80730/531146895.py:7: SettingWithCopyWarning: \n",
      "A value is trying to be set on a copy of a slice from a DataFrame.\n",
      "Try using .loc[row_indexer,col_indexer] = value instead\n",
      "\n",
      "See the caveats in the documentation: https://pandas.pydata.org/pandas-docs/stable/user_guide/indexing.html#returning-a-view-versus-a-copy\n",
      "  results_with_scores[\"Semifinal\"] = results_with_scores[\"Semifinal\"].astype(float)\n",
      "/var/folders/kl/zs51p_z135905dzchw5f3n480000gp/T/ipykernel_80730/531146895.py:8: SettingWithCopyWarning: \n",
      "A value is trying to be set on a copy of a slice from a DataFrame.\n",
      "Try using .loc[row_indexer,col_indexer] = value instead\n",
      "\n",
      "See the caveats in the documentation: https://pandas.pydata.org/pandas-docs/stable/user_guide/indexing.html#returning-a-view-versus-a-copy\n",
      "  results_with_scores[\"Semifinal Place\"] = results_with_scores[\"Semifinal Place\"].astype(float)\n",
      "/var/folders/kl/zs51p_z135905dzchw5f3n480000gp/T/ipykernel_80730/531146895.py:9: SettingWithCopyWarning: \n",
      "A value is trying to be set on a copy of a slice from a DataFrame.\n",
      "Try using .loc[row_indexer,col_indexer] = value instead\n",
      "\n",
      "See the caveats in the documentation: https://pandas.pydata.org/pandas-docs/stable/user_guide/indexing.html#returning-a-view-versus-a-copy\n",
      "  results_with_scores[\"Semifinal Points\"] = results_with_scores[\"Semifinal Points\"].astype(float)\n",
      "/var/folders/kl/zs51p_z135905dzchw5f3n480000gp/T/ipykernel_80730/531146895.py:10: SettingWithCopyWarning: \n",
      "A value is trying to be set on a copy of a slice from a DataFrame.\n",
      "Try using .loc[row_indexer,col_indexer] = value instead\n",
      "\n",
      "See the caveats in the documentation: https://pandas.pydata.org/pandas-docs/stable/user_guide/indexing.html#returning-a-view-versus-a-copy\n",
      "  results_with_scores[\"Grand Final Place\"] = results_with_scores[\"Grand Final Place\"].astype(float)\n",
      "/var/folders/kl/zs51p_z135905dzchw5f3n480000gp/T/ipykernel_80730/531146895.py:11: SettingWithCopyWarning: \n",
      "A value is trying to be set on a copy of a slice from a DataFrame.\n",
      "Try using .loc[row_indexer,col_indexer] = value instead\n",
      "\n",
      "See the caveats in the documentation: https://pandas.pydata.org/pandas-docs/stable/user_guide/indexing.html#returning-a-view-versus-a-copy\n",
      "  results_with_scores[\"Grand Final Points\"] = results_with_scores[\"Grand Final Points\"].astype(float)\n"
     ]
    }
   ],
   "source": [
    "\n",
    "results_with_scores[\"Grand Final Points\"].replace({\"NQ\": None}, inplace=True)\n",
    "results_with_scores[\"Grand Final Place\"].replace({\"NQ\": None}, inplace=True)\n",
    "results_with_scores[\"Semifinal Place\"].replace({\"No Semifinal\": None, \"Yes\": None, \"AQ\": None}, inplace=True)\n",
    "results_with_scores[\"Semifinal Points\"].replace({\"No Semifinal\": None, \"Yes\": None, \"AQ\": None}, inplace=True)\n",
    "results_with_scores[\"Semifinal\"].replace({\"No Semifinal\": None, \"Yes\": None, \"AQ\": None}, inplace=True)\n",
    "\n",
    "results_with_scores[\"Semifinal\"] = results_with_scores[\"Semifinal\"].astype(float)\n",
    "results_with_scores[\"Semifinal Place\"] = results_with_scores[\"Semifinal Place\"].astype(float)\n",
    "results_with_scores[\"Semifinal Points\"] = results_with_scores[\"Semifinal Points\"].astype(float)\n",
    "results_with_scores[\"Grand Final Place\"] = results_with_scores[\"Grand Final Place\"].astype(float)\n",
    "results_with_scores[\"Grand Final Points\"] = results_with_scores[\"Grand Final Points\"].astype(float)"
   ]
  },
  {
   "cell_type": "code",
   "execution_count": 27,
   "metadata": {},
   "outputs": [],
   "source": [
    "results_with_scores.to_csv(\"../data/eurovision/eurovision_not_exploded_data.csv\")"
   ]
  },
  {
   "cell_type": "code",
   "execution_count": 28,
   "metadata": {},
   "outputs": [],
   "source": [
    "results_with_scores_exploded = results_with_scores.explode(column=\"Language\")"
   ]
  },
  {
   "cell_type": "code",
   "execution_count": 29,
   "metadata": {},
   "outputs": [
    {
     "data": {
      "text/html": [
       "<div>\n",
       "<style scoped>\n",
       "    .dataframe tbody tr th:only-of-type {\n",
       "        vertical-align: middle;\n",
       "    }\n",
       "\n",
       "    .dataframe tbody tr th {\n",
       "        vertical-align: top;\n",
       "    }\n",
       "\n",
       "    .dataframe thead th {\n",
       "        text-align: right;\n",
       "    }\n",
       "</style>\n",
       "<table border=\"1\" class=\"dataframe\">\n",
       "  <thead>\n",
       "    <tr style=\"text-align: right;\">\n",
       "      <th></th>\n",
       "      <th>Song</th>\n",
       "      <th>Artist</th>\n",
       "      <th>Country</th>\n",
       "      <th>Year</th>\n",
       "      <th>Language</th>\n",
       "      <th>Grand Final Place</th>\n",
       "      <th>Grand Final Points</th>\n",
       "      <th>Semifinal</th>\n",
       "      <th>Semifinal Place</th>\n",
       "      <th>Semifinal Points</th>\n",
       "    </tr>\n",
       "  </thead>\n",
       "  <tbody>\n",
       "    <tr>\n",
       "      <th>145</th>\n",
       "      <td>Die Zeiger der Uhr</td>\n",
       "      <td>Margot Eskens</td>\n",
       "      <td>Germany</td>\n",
       "      <td>1966</td>\n",
       "      <td>German</td>\n",
       "      <td>10.0</td>\n",
       "      <td>7.0</td>\n",
       "      <td>NaN</td>\n",
       "      <td>NaN</td>\n",
       "      <td>NaN</td>\n",
       "    </tr>\n",
       "    <tr>\n",
       "      <th>685</th>\n",
       "      <td>Kinek mondjam el vétkeimet?</td>\n",
       "      <td>Friderika Bayer</td>\n",
       "      <td>Hungary</td>\n",
       "      <td>1994</td>\n",
       "      <td>Hungarian</td>\n",
       "      <td>4.0</td>\n",
       "      <td>122.0</td>\n",
       "      <td>NaN</td>\n",
       "      <td>NaN</td>\n",
       "      <td>NaN</td>\n",
       "    </tr>\n",
       "    <tr>\n",
       "      <th>388</th>\n",
       "      <td>Hé, hé, m'sieurs dames</td>\n",
       "      <td>Profil</td>\n",
       "      <td>France</td>\n",
       "      <td>1980</td>\n",
       "      <td>French</td>\n",
       "      <td>11.0</td>\n",
       "      <td>45.0</td>\n",
       "      <td>NaN</td>\n",
       "      <td>NaN</td>\n",
       "      <td>NaN</td>\n",
       "    </tr>\n",
       "    <tr>\n",
       "      <th>1708</th>\n",
       "      <td>Burning Daylight</td>\n",
       "      <td>Mia Nicolai and Dion Cooper</td>\n",
       "      <td>Netherlands</td>\n",
       "      <td>2023</td>\n",
       "      <td>English</td>\n",
       "      <td>NaN</td>\n",
       "      <td>NaN</td>\n",
       "      <td>1.0</td>\n",
       "      <td>13.0</td>\n",
       "      <td>7.0</td>\n",
       "    </tr>\n",
       "    <tr>\n",
       "      <th>317</th>\n",
       "      <td>We'll Live It All Again</td>\n",
       "      <td>Al Bano &amp; Romina Power</td>\n",
       "      <td>Italy</td>\n",
       "      <td>1976</td>\n",
       "      <td>Italian</td>\n",
       "      <td>7.0</td>\n",
       "      <td>69.0</td>\n",
       "      <td>NaN</td>\n",
       "      <td>NaN</td>\n",
       "      <td>NaN</td>\n",
       "    </tr>\n",
       "    <tr>\n",
       "      <th>521</th>\n",
       "      <td>Aspro-mavro (Άσπρο-μαύρο)</td>\n",
       "      <td>Alexia</td>\n",
       "      <td>Cyprus</td>\n",
       "      <td>1987</td>\n",
       "      <td>Greek</td>\n",
       "      <td>7.0</td>\n",
       "      <td>80.0</td>\n",
       "      <td>NaN</td>\n",
       "      <td>NaN</td>\n",
       "      <td>NaN</td>\n",
       "    </tr>\n",
       "    <tr>\n",
       "      <th>1211</th>\n",
       "      <td>Watch My Dance</td>\n",
       "      <td>Loukas Giorkas feat. Stereo Mike</td>\n",
       "      <td>Greece</td>\n",
       "      <td>2011</td>\n",
       "      <td>English</td>\n",
       "      <td>7.0</td>\n",
       "      <td>120.0</td>\n",
       "      <td>1.0</td>\n",
       "      <td>1.0</td>\n",
       "      <td>133.0</td>\n",
       "    </tr>\n",
       "    <tr>\n",
       "      <th>1249</th>\n",
       "      <td>När jag blundar</td>\n",
       "      <td>Pernilla Karlsson</td>\n",
       "      <td>Finland</td>\n",
       "      <td>2012</td>\n",
       "      <td>Swedish</td>\n",
       "      <td>NaN</td>\n",
       "      <td>NaN</td>\n",
       "      <td>1.0</td>\n",
       "      <td>12.0</td>\n",
       "      <td>41.0</td>\n",
       "    </tr>\n",
       "    <tr>\n",
       "      <th>1293</th>\n",
       "      <td>Waterfall</td>\n",
       "      <td>Nodi Tatishvili and Sophie Gelovani</td>\n",
       "      <td>Georgia</td>\n",
       "      <td>2013</td>\n",
       "      <td>English</td>\n",
       "      <td>15.0</td>\n",
       "      <td>50.0</td>\n",
       "      <td>2.0</td>\n",
       "      <td>10.0</td>\n",
       "      <td>63.0</td>\n",
       "    </tr>\n",
       "    <tr>\n",
       "      <th>1350</th>\n",
       "      <td>Round and Round</td>\n",
       "      <td>Tinkara Kovač</td>\n",
       "      <td>Slovenia</td>\n",
       "      <td>2014</td>\n",
       "      <td>English</td>\n",
       "      <td>25.0</td>\n",
       "      <td>9.0</td>\n",
       "      <td>2.0</td>\n",
       "      <td>10.0</td>\n",
       "      <td>52.0</td>\n",
       "    </tr>\n",
       "  </tbody>\n",
       "</table>\n",
       "</div>"
      ],
      "text/plain": [
       "                             Song                               Artist  \\\n",
       "145            Die Zeiger der Uhr                        Margot Eskens   \n",
       "685   Kinek mondjam el vétkeimet?                      Friderika Bayer   \n",
       "388        Hé, hé, m'sieurs dames                               Profil   \n",
       "1708             Burning Daylight          Mia Nicolai and Dion Cooper   \n",
       "317       We'll Live It All Again               Al Bano & Romina Power   \n",
       "521     Aspro-mavro (Άσπρο-μαύρο)                               Alexia   \n",
       "1211               Watch My Dance     Loukas Giorkas feat. Stereo Mike   \n",
       "1249              När jag blundar                    Pernilla Karlsson   \n",
       "1293                    Waterfall  Nodi Tatishvili and Sophie Gelovani   \n",
       "1350              Round and Round                        Tinkara Kovač   \n",
       "\n",
       "          Country  Year   Language  Grand Final Place  Grand Final Points  \\\n",
       "145       Germany  1966     German               10.0                 7.0   \n",
       "685       Hungary  1994  Hungarian                4.0               122.0   \n",
       "388        France  1980     French               11.0                45.0   \n",
       "1708  Netherlands  2023    English                NaN                 NaN   \n",
       "317         Italy  1976    Italian                7.0                69.0   \n",
       "521        Cyprus  1987      Greek                7.0                80.0   \n",
       "1211       Greece  2011    English                7.0               120.0   \n",
       "1249      Finland  2012    Swedish                NaN                 NaN   \n",
       "1293      Georgia  2013    English               15.0                50.0   \n",
       "1350     Slovenia  2014    English               25.0                 9.0   \n",
       "\n",
       "      Semifinal  Semifinal Place  Semifinal Points  \n",
       "145         NaN              NaN               NaN  \n",
       "685         NaN              NaN               NaN  \n",
       "388         NaN              NaN               NaN  \n",
       "1708        1.0             13.0               7.0  \n",
       "317         NaN              NaN               NaN  \n",
       "521         NaN              NaN               NaN  \n",
       "1211        1.0              1.0             133.0  \n",
       "1249        1.0             12.0              41.0  \n",
       "1293        2.0             10.0              63.0  \n",
       "1350        2.0             10.0              52.0  "
      ]
     },
     "execution_count": 29,
     "metadata": {},
     "output_type": "execute_result"
    }
   ],
   "source": [
    "results_with_scores_exploded.sample(10)"
   ]
  },
  {
   "cell_type": "code",
   "execution_count": 30,
   "metadata": {},
   "outputs": [
    {
     "name": "stdout",
     "output_type": "stream",
     "text": [
      "<class 'pandas.core.frame.DataFrame'>\n",
      "Index: 1819 entries, 12 to 1720\n",
      "Data columns (total 10 columns):\n",
      " #   Column              Non-Null Count  Dtype  \n",
      "---  ------              --------------  -----  \n",
      " 0   Song                1819 non-null   object \n",
      " 1   Artist              1819 non-null   object \n",
      " 2   Country             1819 non-null   object \n",
      " 3   Year                1819 non-null   int64  \n",
      " 4   Language            1819 non-null   object \n",
      " 5   Grand Final Place   1496 non-null   float64\n",
      " 6   Grand Final Points  1495 non-null   float64\n",
      " 7   Semifinal           575 non-null    float64\n",
      " 8   Semifinal Place     700 non-null    float64\n",
      " 9   Semifinal Points    700 non-null    float64\n",
      "dtypes: float64(5), int64(1), object(4)\n",
      "memory usage: 156.3+ KB\n"
     ]
    }
   ],
   "source": [
    "results_with_scores_exploded.info()"
   ]
  },
  {
   "cell_type": "code",
   "execution_count": 31,
   "metadata": {},
   "outputs": [
    {
     "data": {
      "text/plain": [
       "array(['Switzerland', 'Austria', 'Belgium', 'Denmark', 'France',\n",
       "       'Germany', 'Italy', 'Luxembourg', 'Netherlands', 'United Kingdom',\n",
       "       'Sweden', 'Monaco', 'Norway', 'Finland', 'Spain', 'Yugoslavia',\n",
       "       'Portugal', 'Ireland', 'Malta', 'Israel', 'Greece', 'Turkey',\n",
       "       'Morocco', 'Cyprus', 'Iceland', 'Bosnia and Herzegovina',\n",
       "       'Croatia', 'Slovenia', 'Estonia', 'Hungary', 'Lithuania', 'Poland',\n",
       "       'Romania', 'Russia', 'Slovakia', 'North Macedonia', 'Latvia',\n",
       "       'Ukraine', 'Albania', 'Andorra', 'Belarus',\n",
       "       'Serbia and Montenegro', 'Bulgaria', 'Moldova', 'Armenia',\n",
       "       'Czech Republic', 'Georgia', 'Montenegro', 'Serbia', 'Azerbaijan',\n",
       "       'San Marino', 'Australia'], dtype=object)"
      ]
     },
     "execution_count": 31,
     "metadata": {},
     "output_type": "execute_result"
    }
   ],
   "source": [
    "results_with_scores_exploded[\"Country\"].unique()"
   ]
  },
  {
   "cell_type": "code",
   "execution_count": 32,
   "metadata": {},
   "outputs": [],
   "source": [
    "results_with_scores_exploded.to_csv(\"../data/eurovision/cleansed_eurovision_data.csv\", index=False)"
   ]
  }
 ],
 "metadata": {
  "kernelspec": {
   "display_name": ".venv",
   "language": "python",
   "name": "python3"
  },
  "language_info": {
   "codemirror_mode": {
    "name": "ipython",
    "version": 3
   },
   "file_extension": ".py",
   "mimetype": "text/x-python",
   "name": "python",
   "nbconvert_exporter": "python",
   "pygments_lexer": "ipython3",
   "version": "3.12.6"
  }
 },
 "nbformat": 4,
 "nbformat_minor": 2
}
