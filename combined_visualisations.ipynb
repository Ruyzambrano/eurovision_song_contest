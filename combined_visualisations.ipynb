{
 "cells": [
  {
   "cell_type": "code",
   "execution_count": null,
   "metadata": {},
   "outputs": [],
   "source": [
    "from random import choice\n",
    "from os.path import exists, join\n",
    "from os import makedirs\n",
    "\n",
    "import altair as alt\n",
    "import pandas as pd\n",
    "\n",
    "from functions import get_indicator_line_chart, get_layered_chart, get_eurovision_line_chart, make_layer_chart"
   ]
  },
  {
   "cell_type": "code",
   "execution_count": null,
   "metadata": {},
   "outputs": [],
   "source": [
    "merged_df = pd.read_csv(\"data/combined_data.csv\")"
   ]
  },
  {
   "cell_type": "code",
   "execution_count": null,
   "metadata": {},
   "outputs": [],
   "source": [
    "first_cols = ['Country Name', 'Country Code', 'Year', \"Song\", \"Artist\", \"Language\", \"Grand Final Place\", \"Grand Final Points\", \"Semifinal\", \"Semifinal Place\", \"Semifinal Points\"]"
   ]
  },
  {
   "cell_type": "code",
   "execution_count": null,
   "metadata": {},
   "outputs": [],
   "source": [
    "# To make it easier to see the data, choose a random indicator\n",
    "randomly_chosen_column = choice([col for col in merged_df if col not in first_cols])\n",
    "randomly_chosen_column"
   ]
  },
  {
   "cell_type": "code",
   "execution_count": null,
   "metadata": {},
   "outputs": [],
   "source": [
    "# Choose a random country\n",
    "random_country = choice(merged_df[\"Country Name\"].unique())\n",
    "random_country\n"
   ]
  },
  {
   "cell_type": "code",
   "execution_count": null,
   "metadata": {},
   "outputs": [],
   "source": [
    "layered_chart = make_layer_chart(merged_df, random_country, randomly_chosen_column)\n",
    "layered_chart.show()\n"
   ]
  },
  {
   "cell_type": "code",
   "execution_count": null,
   "metadata": {},
   "outputs": [],
   "source": [
    "active = input(f\"Do you want to see the full results for {randomly_chosen_column}? Y/N\").lower()\n",
    "while active not in [\"y\", \"n\"]:\n",
    "    active = input(\"Invalid Input. Do you want to save this? Y/N\").lower()\n",
    "if active == \"y\":\n",
    "    for country in merged_df[\"Country Name\"].unique():\n",
    "        layer = make_layer_chart(merged_df, country, randomly_chosen_column)\n",
    "        layer.show()\n",
    "    active = input(\"Do you want to save this? Y/N\").lower()\n"
   ]
  },
  {
   "cell_type": "code",
   "execution_count": null,
   "metadata": {},
   "outputs": [],
   "source": [
    "\n",
    "while active not in [\"y\", \"n\"]:\n",
    "    active = input(\"Invalid Input. Do you want to save this? Y/N\").lower()\n",
    "if active == \"y\":\n",
    "    for country in merged_df[\"Country Name\"].unique():\n",
    "        filepath = join(\"visualisations\", \"combined\", country, country + randomly_chosen_column + \".png\").replace(\" \", \"_\").lower()\n",
    "        if not exists(filepath):\n",
    "            \n",
    "            make_layer_chart(merged_df, country, \"Refugee population by country or territory of origin\").save(filepath)"
   ]
  }
 ],
 "metadata": {
  "kernelspec": {
   "display_name": ".venv",
   "language": "python",
   "name": "python3"
  },
  "language_info": {
   "codemirror_mode": {
    "name": "ipython",
    "version": 3
   },
   "file_extension": ".py",
   "mimetype": "text/x-python",
   "name": "python",
   "nbconvert_exporter": "python",
   "pygments_lexer": "ipython3",
   "version": "3.12.3"
  }
 },
 "nbformat": 4,
 "nbformat_minor": 2
}
