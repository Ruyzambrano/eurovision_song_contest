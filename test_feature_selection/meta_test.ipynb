{
 "cells": [
  {
   "cell_type": "code",
   "execution_count": 38,
   "metadata": {},
   "outputs": [],
   "source": [
    "import pandas as pd\n",
    "import numpy as np\n",
    "import mafese\n",
    "from sklearn.preprocessing import StandardScaler\n",
    "from mafese.wrapper.mha import MhaSelector\n",
    "from mafese import get_dataset\n",
    "from sklearn.svm import SVC\n",
    "from scipy import sparse\n",
    "from datetime import datetime\n",
    "from sklearn.model_selection import GridSearchCV\n",
    "from sklearn.metrics import accuracy_score, precision_score, recall_score\n",
    "from imblearn.over_sampling import SMOTE\n",
    "\n",
    "\n"
   ]
  },
  {
   "cell_type": "code",
   "execution_count": 39,
   "metadata": {},
   "outputs": [],
   "source": [
    "data_array = pd.read_csv(\"combined_data.csv\", index_col=0)"
   ]
  },
  {
   "cell_type": "code",
   "execution_count": 40,
   "metadata": {},
   "outputs": [],
   "source": [
    "data_array = data_array[data_array[\"Grand Final Place\"] != 27]\n"
   ]
  },
  {
   "cell_type": "code",
   "execution_count": 41,
   "metadata": {},
   "outputs": [],
   "source": [
    "categorical_columns = ['Country Name', 'Country Code', 'Year', 'Song', 'Artist', 'Language']\n",
    "numeric_cols = data_array.columns.difference(categorical_columns)"
   ]
  },
  {
   "cell_type": "code",
   "execution_count": 42,
   "metadata": {},
   "outputs": [],
   "source": [
    "data_array[numeric_cols] = data_array[numeric_cols].fillna(data_array[numeric_cols].median())\n"
   ]
  },
  {
   "cell_type": "code",
   "execution_count": null,
   "metadata": {},
   "outputs": [],
   "source": [
    "empty_columns = data_array.columns[data_array.isnull().all()]\n",
    "data_array = data_array.drop(columns=empty_columns)\n",
    "data_array"
   ]
  },
  {
   "cell_type": "code",
   "execution_count": null,
   "metadata": {},
   "outputs": [],
   "source": [
    "data_array[\"Grand Final Place\"].value_counts()"
   ]
  },
  {
   "cell_type": "code",
   "execution_count": 45,
   "metadata": {},
   "outputs": [],
   "source": [
    "data_encoded = pd.get_dummies(data_array, columns=categorical_columns, drop_first=True)\n"
   ]
  },
  {
   "cell_type": "code",
   "execution_count": 46,
   "metadata": {},
   "outputs": [],
   "source": [
    "# data_array = data_array.sample(500)\n",
    "target = data_encoded[\"Grand Final Place\"].values\n",
    "non_targets = data_encoded.drop(columns=[\"Grand Final Place\"]).values\n"
   ]
  },
  {
   "cell_type": "code",
   "execution_count": 47,
   "metadata": {},
   "outputs": [],
   "source": [
    "data = mafese.Data(non_targets, target)\n"
   ]
  },
  {
   "cell_type": "code",
   "execution_count": 48,
   "metadata": {},
   "outputs": [],
   "source": [
    "data.split_train_test(test_size=0.2, inplace=True)"
   ]
  },
  {
   "cell_type": "code",
   "execution_count": 49,
   "metadata": {},
   "outputs": [],
   "source": [
    "X_train_df = pd.DataFrame(data.X_train)\n",
    "X_test_df = pd.DataFrame(data.X_test)"
   ]
  },
  {
   "cell_type": "code",
   "execution_count": 50,
   "metadata": {},
   "outputs": [],
   "source": [
    "standard_scaler = StandardScaler()\n",
    "\n",
    "data.X_train = standard_scaler.fit_transform(data.X_train)\n",
    "data.X_test = standard_scaler.transform(data.X_test)\n"
   ]
  },
  {
   "cell_type": "code",
   "execution_count": 51,
   "metadata": {},
   "outputs": [],
   "source": [
    "data.y_train, scaler_y = data.encode_label(data.y_train)\n",
    "data.y_test = scaler_y.transform(data.y_test)"
   ]
  },
  {
   "cell_type": "code",
   "execution_count": 52,
   "metadata": {},
   "outputs": [],
   "source": [
    "feat_selector = MhaSelector()"
   ]
  },
  {
   "cell_type": "code",
   "execution_count": 53,
   "metadata": {},
   "outputs": [],
   "source": [
    "weights = (0.9, 0.1)"
   ]
  },
  {
   "cell_type": "code",
   "execution_count": null,
   "metadata": {},
   "outputs": [],
   "source": [
    "feat_selector.fit(data.X_train, data.y_train, fit_weights=weights, verbose=True)"
   ]
  },
  {
   "cell_type": "code",
   "execution_count": null,
   "metadata": {},
   "outputs": [],
   "source": [
    "print(len(feat_selector.selected_feature_indexes))"
   ]
  },
  {
   "cell_type": "code",
   "execution_count": null,
   "metadata": {},
   "outputs": [],
   "source": [
    "print(feat_selector.selected_feature_indexes)\n"
   ]
  },
  {
   "cell_type": "code",
   "execution_count": 57,
   "metadata": {},
   "outputs": [],
   "source": [
    "X_train_selected = feat_selector.transform(data.X_train)\n",
    "X_test_selected = feat_selector.transform(data.X_test)"
   ]
  },
  {
   "cell_type": "code",
   "execution_count": null,
   "metadata": {},
   "outputs": [],
   "source": [
    "unique_classes, class_counts = np.unique(data.y_train, return_counts=True)\n",
    "print(\"Unique classes in y_train:\", unique_classes)\n",
    "print(\"Counts of each class in y_train:\", class_counts)"
   ]
  },
  {
   "cell_type": "code",
   "execution_count": 59,
   "metadata": {},
   "outputs": [],
   "source": [
    "param_grid = {\n",
    "    'C': [0.1, 1, 10, 100],      # Regularization parameter\n",
    "    'kernel': ['linear', 'rbf', 'poly'],  # Kernel types\n",
    "    'gamma': ['scale', 'auto', 0.01, 0.1, 1],  # Kernel coefficient\n",
    "}"
   ]
  },
  {
   "cell_type": "code",
   "execution_count": 35,
   "metadata": {},
   "outputs": [],
   "source": [
    "grid_search = GridSearchCV(SVC(), param_grid, cv=2, verbose=2, scoring='accuracy')\n"
   ]
  },
  {
   "cell_type": "code",
   "execution_count": 60,
   "metadata": {},
   "outputs": [],
   "source": [
    "grid_search.fit(X_train_selected, data.y_train)\n"
   ]
  },
  {
   "cell_type": "code",
   "execution_count": null,
   "metadata": {},
   "outputs": [],
   "source": [
    "best_params = grid_search.best_params_\n",
    "best_score = grid_search.best_score_"
   ]
  },
  {
   "cell_type": "code",
   "execution_count": null,
   "metadata": {},
   "outputs": [],
   "source": [
    "print(\"Best parameters found: \", best_params)\n",
    "print(\"Best cross-validation score: \", best_score)\n"
   ]
  },
  {
   "cell_type": "code",
   "execution_count": null,
   "metadata": {},
   "outputs": [],
   "source": [
    "best_model = grid_search.best_estimator_\n",
    "y_pred = best_model.predict(X_test_selected)"
   ]
  },
  {
   "cell_type": "code",
   "execution_count": null,
   "metadata": {},
   "outputs": [],
   "source": [
    "test_accuracy = accuracy_score(data.y_test, y_pred)\n",
    "test_precision = precision_score(data.y_test, y_pred, average='weighted')\n",
    "test_recall = recall_score(data.y_test, y_pred, average='weighted')\n",
    "\n",
    "print(\"Test Accuracy: \", test_accuracy)\n",
    "print(\"Test Precision: \", test_precision)\n",
    "print(\"Test Recall: \", test_recall)\n"
   ]
  },
  {
   "cell_type": "code",
   "execution_count": 186,
   "metadata": {},
   "outputs": [],
   "source": [
    "results = feat_selector.evaluate(estimator=SVC(), data=data, metrics=[\"AS\", \"PS\", \"RS\"])\n"
   ]
  },
  {
   "cell_type": "code",
   "execution_count": null,
   "metadata": {},
   "outputs": [],
   "source": [
    "for key in results.keys():\n",
    "    print(f\"{key}: {results[key]}\")\n"
   ]
  },
  {
   "cell_type": "code",
   "execution_count": 188,
   "metadata": {},
   "outputs": [],
   "source": [
    "output = f\"\"\"\n",
    "Run at: {datetime.now()}\n",
    "Weights = {weights}\n",
    "Outputs:\n",
    "\"\"\"\n",
    "for key in results.keys():\n",
    "    output += f\"\\t{key}: {results[key]}\\n\"\n",
    "\n",
    "output += \"\"\"\n",
    "Best parameters: {best_params}\n",
    "Best cross-validation score: {best_score}\n",
    "Test Accuracy: {test_accuracy}\n",
    "Test Precision: {test_precision}\n",
    "Test Recall: {test_recall}\n",
    "\"\"\"\n",
    "with open(\"outputs/outputs.txt\", \"a\", encoding=\"UTF-8\") as f:\n",
    "    f.write(output)"
   ]
  }
 ],
 "metadata": {
  "kernelspec": {
   "display_name": ".venv",
   "language": "python",
   "name": "python3"
  },
  "language_info": {
   "codemirror_mode": {
    "name": "ipython",
    "version": 3
   },
   "file_extension": ".py",
   "mimetype": "text/x-python",
   "name": "python",
   "nbconvert_exporter": "python",
   "pygments_lexer": "ipython3",
   "version": "3.12.6"
  }
 },
 "nbformat": 4,
 "nbformat_minor": 2
}
