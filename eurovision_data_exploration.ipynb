{
 "cells": [
  {
   "cell_type": "code",
   "execution_count": null,
   "metadata": {},
   "outputs": [],
   "source": [
    "from glob import glob\n",
    "from os.path import exists\n",
    "\n",
    "import pandas as pd"
   ]
  },
  {
   "cell_type": "code",
   "execution_count": null,
   "metadata": {},
   "outputs": [],
   "source": [
    "def get_languages(data):\n",
    "    return data[\"Language\"].unique()"
   ]
  },
  {
   "cell_type": "markdown",
   "metadata": {},
   "source": [
    "## Read Data"
   ]
  },
  {
   "cell_type": "code",
   "execution_count": null,
   "metadata": {},
   "outputs": [],
   "source": [
    "result_filepath = glob(\"*/*/every_eurovision_result_ever.csv\")"
   ]
  },
  {
   "cell_type": "code",
   "execution_count": null,
   "metadata": {},
   "outputs": [],
   "source": [
    "results = pd.read_csv(result_filepath[0])"
   ]
  },
  {
   "cell_type": "code",
   "execution_count": null,
   "metadata": {},
   "outputs": [],
   "source": [
    "results.info()"
   ]
  },
  {
   "cell_type": "code",
   "execution_count": null,
   "metadata": {},
   "outputs": [],
   "source": [
    "results[\"Country\"].unique()"
   ]
  },
  {
   "cell_type": "markdown",
   "metadata": {},
   "source": [
    "## Transform Data"
   ]
  },
  {
   "cell_type": "code",
   "execution_count": null,
   "metadata": {},
   "outputs": [],
   "source": [
    "results_with_scores = results[~results[\"Grand Final Place\"].isna()] # 1956 was the first year of competition and the votes were lost. 2020 was cancelled due to COVID"
   ]
  },
  {
   "cell_type": "code",
   "execution_count": null,
   "metadata": {},
   "outputs": [],
   "source": [
    "# Convert the 'Language' column to lists\n",
    "results_with_scores['Language'] = results_with_scores['Language'].apply(lambda x: x.split(', '))\n"
   ]
  },
  {
   "cell_type": "code",
   "execution_count": null,
   "metadata": {},
   "outputs": [],
   "source": [
    "results_with_scores['Language'] = results_with_scores['Language'].replace(r'\\[\\w+\\]', '', regex=True)"
   ]
  },
  {
   "cell_type": "code",
   "execution_count": null,
   "metadata": {},
   "outputs": [],
   "source": [
    "\n",
    "results_with_scores[\"Grand Final Points\"].replace({\"NQ\": None}, inplace=True)\n",
    "results_with_scores[\"Grand Final Place\"].replace({\"NQ\": None}, inplace=True)\n",
    "results_with_scores[\"Semifinal Place\"].replace({\"No Semifinal\": None, \"Yes\": None, \"AQ\": None}, inplace=True)\n",
    "results_with_scores[\"Semifinal Points\"].replace({\"No Semifinal\": None, \"Yes\": None, \"AQ\": None}, inplace=True)\n",
    "results_with_scores[\"Semifinal\"].replace({\"No Semifinal\": None, \"Yes\": None, \"AQ\": None}, inplace=True)\n",
    "\n",
    "results_with_scores[\"Semifinal\"] = results_with_scores[\"Semifinal\"].astype(float)\n",
    "results_with_scores[\"Semifinal Place\"] = results_with_scores[\"Semifinal Place\"].astype(float)\n",
    "results_with_scores[\"Semifinal Points\"] = results_with_scores[\"Semifinal Points\"].astype(float)\n",
    "results_with_scores[\"Grand Final Place\"] = results_with_scores[\"Grand Final Place\"].astype(float)\n",
    "results_with_scores[\"Grand Final Points\"] = results_with_scores[\"Grand Final Points\"].astype(float)"
   ]
  },
  {
   "cell_type": "code",
   "execution_count": null,
   "metadata": {},
   "outputs": [],
   "source": [
    "results_with_scores_exploded = results_with_scores.explode(column=\"Language\")"
   ]
  },
  {
   "cell_type": "code",
   "execution_count": null,
   "metadata": {},
   "outputs": [],
   "source": [
    "results_with_scores_exploded.sample(10)"
   ]
  },
  {
   "cell_type": "code",
   "execution_count": null,
   "metadata": {},
   "outputs": [],
   "source": [
    "results_with_scores_exploded.info()"
   ]
  },
  {
   "cell_type": "code",
   "execution_count": null,
   "metadata": {},
   "outputs": [],
   "source": [
    "results_with_scores_exploded[\"Country\"].unique()"
   ]
  },
  {
   "cell_type": "code",
   "execution_count": null,
   "metadata": {},
   "outputs": [],
   "source": [
    "results_with_scores_exploded.to_csv(\"./data/eurovision/cleansed_eurovision_data.csv\", index=False)"
   ]
  }
 ],
 "metadata": {
  "kernelspec": {
   "display_name": ".venv",
   "language": "python",
   "name": "python3"
  },
  "language_info": {
   "codemirror_mode": {
    "name": "ipython",
    "version": 3
   },
   "file_extension": ".py",
   "mimetype": "text/x-python",
   "name": "python",
   "nbconvert_exporter": "python",
   "pygments_lexer": "ipython3",
   "version": "3.12.6"
  }
 },
 "nbformat": 4,
 "nbformat_minor": 2
}
