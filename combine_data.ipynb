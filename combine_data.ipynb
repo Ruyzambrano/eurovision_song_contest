{
 "cells": [
  {
   "cell_type": "code",
   "execution_count": null,
   "metadata": {},
   "outputs": [],
   "source": [
    "from random import choice\n",
    "from os.path import exists, join\n",
    "from os import makedirs\n",
    "\n",
    "import pandas as pd\n",
    "import altair as alt"
   ]
  },
  {
   "cell_type": "code",
   "execution_count": null,
   "metadata": {},
   "outputs": [],
   "source": [
    "def get_indicator_line_chart(filtered_data: pd.DataFrame, randomly_chosen_column: str, country: str) -> alt.Chart:\n",
    "    return alt.Chart(filtered_data).mark_line().encode(\n",
    "    x='Year:O',\n",
    "    y=alt.Y(randomly_chosen_column.replace(\":\", r\"\\:\"), title=f'{randomly_chosen_column}'),\n",
    "    color=alt.Color('Country Name:N', scale=alt.Scale(scheme='purples')),\n",
    "    tooltip=['Country Name', 'Year', randomly_chosen_column]\n",
    ").properties(\n",
    "    title=f'{randomly_chosen_column} by Year in {country}',\n",
    "    width=1000\n",
    ")"
   ]
  },
  {
   "cell_type": "code",
   "execution_count": null,
   "metadata": {},
   "outputs": [],
   "source": [
    "def get_eurovision_line_chart(filtered_data: pd.DataFrame, country: str) -> alt.Chart:\n",
    "    return alt.Chart(filtered_data).mark_line().encode(\n",
    "        x=\"Year:O\",\n",
    "        y=alt.Y(\"Grand Final Place\", scale=alt.Scale(reverse=True)),\n",
    "        color=alt.Color('Country Name:N', scale=alt.Scale(scheme='magma')),\n",
    "        tooltip=['Country Name', 'Year', \"Grand Final Place\"],\n",
    "    ).properties(\n",
    "        title=f\"{country} Eurovision Final Place\",\n",
    "        width=1000\n",
    "    )"
   ]
  },
  {
   "cell_type": "code",
   "execution_count": null,
   "metadata": {},
   "outputs": [],
   "source": [
    "def get_layered_chart(chart_one: alt.Chart, chart_two: alt.Chart, randomly_chosen_column: str, country: str) -> alt.Chart:\n",
    "    return alt.layer(\n",
    "        chart_one,\n",
    "        chart_two\n",
    "    ).resolve_scale(\n",
    "        y=\"independent\",\n",
    "        color=\"independent\"\n",
    "        ).properties(\n",
    "        title=f'{randomly_chosen_column} and Eurovision Place by Year in {country}',\n",
    "        width=1000\n",
    "    )"
   ]
  },
  {
   "cell_type": "code",
   "execution_count": null,
   "metadata": {},
   "outputs": [],
   "source": [
    "def filter_by_country(merged_df: pd.DataFrame, country_name: str) -> pd.DataFrame:\n",
    "    return merged_df[merged_df[\"Country Name\"].isin([country_name])]"
   ]
  },
  {
   "cell_type": "code",
   "execution_count": null,
   "metadata": {},
   "outputs": [],
   "source": [
    "def make_layer_chart(full_dataset: pd.DataFrame, country: str, randomly_chosen_column):\n",
    "    country_data = filter_by_country(full_dataset, country)\n",
    "    indicator = get_indicator_line_chart(country_data, randomly_chosen_column, country)\n",
    "    eurovision = get_eurovision_line_chart(country_data, country)\n",
    "    return get_layered_chart(indicator, eurovision, randomly_chosen_column, country)"
   ]
  },
  {
   "cell_type": "code",
   "execution_count": null,
   "metadata": {},
   "outputs": [],
   "source": [
    "world_data = pd.read_csv(\"data/world_bank/combined_world_data.csv\")\n",
    "eurovision_data = pd.read_csv(\"data/eurovision/cleansed_eurovision_data.csv\")"
   ]
  },
  {
   "cell_type": "code",
   "execution_count": null,
   "metadata": {},
   "outputs": [],
   "source": [
    "world_data.sample(10)"
   ]
  },
  {
   "cell_type": "code",
   "execution_count": null,
   "metadata": {},
   "outputs": [],
   "source": [
    "eurovision_data.sample(10)"
   ]
  },
  {
   "cell_type": "code",
   "execution_count": null,
   "metadata": {},
   "outputs": [],
   "source": [
    "eurovision_countries = sorted(eurovision_data[\"Country\"].unique())\n",
    "world_countries = sorted(world_data[\"Country Name\"].unique())"
   ]
  },
  {
   "cell_type": "code",
   "execution_count": null,
   "metadata": {},
   "outputs": [],
   "source": [
    "for country in eurovision_countries:\n",
    "    if country not in world_data[\"Country Name\"].unique():\n",
    "        print(country)"
   ]
  },
  {
   "cell_type": "code",
   "execution_count": null,
   "metadata": {},
   "outputs": [],
   "source": [
    "for country in world_countries:\n",
    "    if country not in eurovision_countries:\n",
    "        print(country)"
   ]
  },
  {
   "cell_type": "code",
   "execution_count": null,
   "metadata": {},
   "outputs": [],
   "source": [
    "eurovision_data[\"Country\"].replace({\"Czech Republic\": \"Czechia\", \"Russia\": \"Russian Federation\", \"Slovakia\": \"Slovak Republic\", \"Turkey\": \"Turkiye\"}, inplace=True)"
   ]
  },
  {
   "cell_type": "code",
   "execution_count": null,
   "metadata": {},
   "outputs": [],
   "source": [
    "eurovision_data.rename(columns={\"Country\": \"Country Name\"}, inplace=True)"
   ]
  },
  {
   "cell_type": "code",
   "execution_count": null,
   "metadata": {},
   "outputs": [],
   "source": [
    "merged_df = pd.merge(eurovision_data, world_data, on=['Country Name', 'Year'], how='inner').reset_index()\n"
   ]
  },
  {
   "cell_type": "code",
   "execution_count": null,
   "metadata": {},
   "outputs": [],
   "source": [
    "first_cols = ['Country Name', 'Country Code', 'Year', \"Song\", \"Artist\", \"Language\", \"Grand Final Place\", \"Grand Final Points\", \"Semifinal\", \"Semifinal Place\", \"Semifinal Points\"]\n",
    "remaining_cols = [col for col in merged_df.columns if col not in first_cols]\n",
    "new_col_order = first_cols + remaining_cols"
   ]
  },
  {
   "cell_type": "code",
   "execution_count": null,
   "metadata": {},
   "outputs": [],
   "source": [
    "merged_df = merged_df[new_col_order]"
   ]
  },
  {
   "cell_type": "code",
   "execution_count": null,
   "metadata": {},
   "outputs": [],
   "source": [
    "merged_df.tail(10)"
   ]
  },
  {
   "cell_type": "code",
   "execution_count": null,
   "metadata": {},
   "outputs": [],
   "source": [
    "merged_df.info()"
   ]
  },
  {
   "cell_type": "code",
   "execution_count": null,
   "metadata": {},
   "outputs": [],
   "source": [
    "merged_df.to_csv(\"data/combined_data.csv\")"
   ]
  },
  {
   "cell_type": "markdown",
   "metadata": {},
   "source": [
    "## Visualisations"
   ]
  },
  {
   "cell_type": "code",
   "execution_count": null,
   "metadata": {},
   "outputs": [],
   "source": [
    "# To make it easier to see the data, choose a random indicator\n",
    "randomly_chosen_column = choice([col for col in merged_df if col not in first_cols])\n",
    "randomly_chosen_column"
   ]
  },
  {
   "cell_type": "code",
   "execution_count": null,
   "metadata": {},
   "outputs": [],
   "source": [
    "# Choose a random country\n",
    "random_country = choice(merged_df[\"Country Name\"].unique())\n",
    "random_country\n"
   ]
  },
  {
   "cell_type": "code",
   "execution_count": null,
   "metadata": {},
   "outputs": [],
   "source": [
    "layered_chart = make_layer_chart(merged_df, random_country, randomly_chosen_column)\n",
    "layered_chart.show()\n"
   ]
  },
  {
   "cell_type": "code",
   "execution_count": null,
   "metadata": {},
   "outputs": [],
   "source": [
    "active = input(f\"Do you want to see the full results for {randomly_chosen_column}? Y/N\").lower()\n",
    "while active not in [\"y\", \"n\"]:\n",
    "    active = input(\"Invalid Input. Do you want to save this? Y/N\").lower()\n",
    "if active == \"y\":\n",
    "    for country in merged_df[\"Country Name\"].unique():\n",
    "        layer = make_layer_chart(merged_df, country, randomly_chosen_column)\n",
    "        layer.show()\n"
   ]
  },
  {
   "cell_type": "code",
   "execution_count": null,
   "metadata": {},
   "outputs": [],
   "source": [
    "active = input(\"Do you want to save this? Y/N\").lower()\n",
    "while active not in [\"y\", \"n\"]:\n",
    "    active = input(\"Invalid Input. Do you want to save this? Y/N\").lower()\n",
    "if active == \"y\":\n",
    "    for country in merged_df[\"Country Name\"].unique():\n",
    "        filepath = join(\"visualisations\", \"combined\", country, country + randomly_chosen_column.replace(\" \", \"_\").lower() + \".png\")\n",
    "        if not exists(filepath):\n",
    "            \n",
    "            make_layer_chart(merged_df, country, \"Refugee population by country or territory of origin\").save(filepath)"
   ]
  }
 ],
 "metadata": {
  "kernelspec": {
   "display_name": ".venv",
   "language": "python",
   "name": "python3"
  },
  "language_info": {
   "codemirror_mode": {
    "name": "ipython",
    "version": 3
   },
   "file_extension": ".py",
   "mimetype": "text/x-python",
   "name": "python",
   "nbconvert_exporter": "python",
   "pygments_lexer": "ipython3",
   "version": "3.12.3"
  }
 },
 "nbformat": 4,
 "nbformat_minor": 2
}
