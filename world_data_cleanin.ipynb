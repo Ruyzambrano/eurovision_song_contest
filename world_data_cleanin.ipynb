{
 "cells": [
  {
   "cell_type": "code",
   "execution_count": null,
   "metadata": {},
   "outputs": [],
   "source": [
    "import pandas as pd\n",
    "from glob import glob\n",
    "from random import choice, sample\n",
    "import altair as alt\n",
    "from os.path import exists\n"
   ]
  },
  {
   "cell_type": "code",
   "execution_count": null,
   "metadata": {},
   "outputs": [],
   "source": [
    "country_filepaths = glob(\"*/*/*/*_data.csv\")\n",
    "print(country_filepaths)"
   ]
  },
  {
   "cell_type": "markdown",
   "metadata": {},
   "source": [
    "## Testing With One Country"
   ]
  },
  {
   "cell_type": "code",
   "execution_count": null,
   "metadata": {},
   "outputs": [],
   "source": [
    "poland = pd.read_csv(country_filepaths[0])"
   ]
  },
  {
   "cell_type": "code",
   "execution_count": null,
   "metadata": {},
   "outputs": [],
   "source": [
    "poland.sample(10)"
   ]
  },
  {
   "cell_type": "code",
   "execution_count": null,
   "metadata": {},
   "outputs": [],
   "source": [
    "poland.info()"
   ]
  },
  {
   "cell_type": "code",
   "execution_count": null,
   "metadata": {},
   "outputs": [],
   "source": [
    "poland_long = poland.melt(\n",
    "        id_vars=['Country Name', 'Country Code', 'Indicator Name', 'Indicator Code'],\n",
    "        var_name='Year', value_name='Value'\n",
    "    )"
   ]
  },
  {
   "cell_type": "code",
   "execution_count": null,
   "metadata": {},
   "outputs": [],
   "source": [
    "poland_long[poland_long[\"Value\"].notna()].head().max()"
   ]
  },
  {
   "cell_type": "code",
   "execution_count": null,
   "metadata": {},
   "outputs": [],
   "source": [
    "pivoted_df = poland_long.pivot_table(\n",
    "    index=['Country Name', 'Country Code', 'Year'],\n",
    "    columns='Indicator Name',\n",
    "    values='Value'\n",
    ")"
   ]
  },
  {
   "cell_type": "markdown",
   "metadata": {},
   "source": [
    "## Combining All Countries\n",
    "\n",
    "Data is shaped as follows:\n",
    "> [Country, Country Code, Year, [All Indicators]]"
   ]
  },
  {
   "cell_type": "code",
   "execution_count": null,
   "metadata": {},
   "outputs": [],
   "source": [
    "df_list = []"
   ]
  },
  {
   "cell_type": "code",
   "execution_count": null,
   "metadata": {},
   "outputs": [],
   "source": [
    "for country in country_filepaths:\n",
    "    df = pd.read_csv(country)\n",
    "    df[\"Indicator Name\"].replace(\":\", \"\", inplace=True)\n",
    "    df_long = df.melt(\n",
    "        id_vars=['Country Name', 'Country Code', 'Indicator Name', 'Indicator Code'],\n",
    "        var_name='Year', value_name='Value'\n",
    "    )\n",
    "    pivoted_df = df_long.pivot_table(\n",
    "    index=['Country Name', 'Country Code', 'Year'],\n",
    "    columns='Indicator Name',\n",
    "    values='Value'\n",
    "    ).reset_index()\n",
    "    df_list.append(pivoted_df)"
   ]
  },
  {
   "cell_type": "code",
   "execution_count": null,
   "metadata": {},
   "outputs": [],
   "source": [
    "combined_data = pd.concat(df_list).reset_index()\n",
    "combined_data.drop(\"index\", axis=1, inplace=True)"
   ]
  },
  {
   "cell_type": "code",
   "execution_count": null,
   "metadata": {},
   "outputs": [],
   "source": [
    "combined_data[\"Country Name\"].unique()"
   ]
  },
  {
   "cell_type": "code",
   "execution_count": null,
   "metadata": {},
   "outputs": [],
   "source": [
    "combined_data.dropna(subset=\"Year\", inplace=True)\n",
    "combined_data = combined_data.astype({\"Year\": int})"
   ]
  },
  {
   "cell_type": "code",
   "execution_count": null,
   "metadata": {},
   "outputs": [],
   "source": [
    "for col in combined_data.columns:\n",
    "    if combined_data[col].dtype != float:\n",
    "        print(col, combined_data[col].dtype)"
   ]
  },
  {
   "cell_type": "code",
   "execution_count": null,
   "metadata": {},
   "outputs": [],
   "source": [
    "cols = ['Country Name', 'Country Code', 'Year'] + [col for col in combined_data if col not in ['Country Name', 'Country Code', 'Year', \"Indicator Name\"]]\n",
    "combined_data = combined_data[cols].reset_index()\n",
    "combined_data.info()"
   ]
  },
  {
   "cell_type": "code",
   "execution_count": null,
   "metadata": {},
   "outputs": [],
   "source": [
    "combined_data.sample(10)"
   ]
  },
  {
   "cell_type": "code",
   "execution_count": null,
   "metadata": {},
   "outputs": [],
   "source": [
    "for col in [col for col in combined_data.columns if col not in ['Country Name', 'Country Code', 'Year', \"Indicator Name\"]]:\n",
    "    if combined_data[col].nunique() < 4:\n",
    "        print(col, combined_data[col].nunique(), \"\\n\", combined_data[col].describe(), \"\\n\")"
   ]
  },
  {
   "cell_type": "code",
   "execution_count": null,
   "metadata": {},
   "outputs": [],
   "source": [
    "\n",
    "for col in [col for col in combined_data.columns if col not in ['Country Name', 'Country Code', 'Year', \"Indicator Name\"]]:\n",
    "    if combined_data[col].count() < 10:\n",
    "        print(col, combined_data[col].count(), \"\\n\", combined_data[col].describe(), \"\\n\", combined_data[col].isna().sum(),\"\\n\")"
   ]
  },
  {
   "cell_type": "code",
   "execution_count": null,
   "metadata": {},
   "outputs": [],
   "source": [
    "combined_data.columns = combined_data.columns.str.replace(':', '', regex=False)"
   ]
  },
  {
   "cell_type": "code",
   "execution_count": null,
   "metadata": {},
   "outputs": [],
   "source": [
    "combined_data.dropna(thresh=360, inplace=True)"
   ]
  },
  {
   "cell_type": "code",
   "execution_count": null,
   "metadata": {},
   "outputs": [],
   "source": [
    "combined_data.drop(\"index\", axis=1, inplace=True)\n",
    "combined_data.columns"
   ]
  },
  {
   "cell_type": "code",
   "execution_count": null,
   "metadata": {},
   "outputs": [],
   "source": [
    "combined_data.to_csv(\"./data/world_bank/combined_world_data.csv\", index=False)"
   ]
  },
  {
   "cell_type": "markdown",
   "metadata": {},
   "source": [
    "## Choosing a random Indicator to Check For 3 Random Countries"
   ]
  },
  {
   "cell_type": "code",
   "execution_count": null,
   "metadata": {},
   "outputs": [],
   "source": [
    "randomly_chosen_countries = sample(combined_data['Country Name'].unique().tolist(), 5)\n",
    "filtered_data = combined_data[combined_data['Country Name'].isin(randomly_chosen_countries)]\n",
    "randomly_chosen_countries"
   ]
  },
  {
   "cell_type": "code",
   "execution_count": null,
   "metadata": {},
   "outputs": [],
   "source": [
    "randomly_chosen_column = choice([col for col in combined_data if col not in ['Country Name', 'Country Code', 'Year', \"Indicator Name\"]])\n",
    "randomly_chosen_column "
   ]
  },
  {
   "cell_type": "code",
   "execution_count": null,
   "metadata": {},
   "outputs": [],
   "source": [
    "chart = alt.Chart(filtered_data).mark_line().encode(\n",
    "    x='Year:O',\n",
    "    y=alt.Y(randomly_chosen_column.replace(\":\", r\"\\:\"), title=f'{randomly_chosen_column}'),\n",
    "    color=\"Country Name\"\n",
    ").properties(\n",
    "    title=f'{randomly_chosen_column} by Year'\n",
    ")\n",
    "chart.show()"
   ]
  }
 ],
 "metadata": {
  "kernelspec": {
   "display_name": ".venv",
   "language": "python",
   "name": "python3"
  },
  "language_info": {
   "codemirror_mode": {
    "name": "ipython",
    "version": 3
   },
   "file_extension": ".py",
   "mimetype": "text/x-python",
   "name": "python",
   "nbconvert_exporter": "python",
   "pygments_lexer": "ipython3",
   "version": "3.12.3"
  }
 },
 "nbformat": 4,
 "nbformat_minor": 2
}
